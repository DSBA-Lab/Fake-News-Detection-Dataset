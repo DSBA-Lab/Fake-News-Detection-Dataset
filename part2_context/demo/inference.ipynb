{
 "cells": [
  {
   "cell_type": "code",
   "execution_count": 1,
   "metadata": {},
   "outputs": [],
   "source": [
    "import os\n",
    "os.chdir('../')"
   ]
  },
  {
   "cell_type": "code",
   "execution_count": 2,
   "metadata": {},
   "outputs": [
    {
     "data": {
      "application/vnd.jupyter.widget-view+json": {
       "model_id": "6e29efcfb03b484eb038a4b07076092d",
       "version_major": 2,
       "version_minor": 0
      },
      "text/plain": [
       "HTML(value='<h1>Select Model</h1>')"
      ]
     },
     "metadata": {},
     "output_type": "display_data"
    },
    {
     "data": {
      "application/vnd.jupyter.widget-view+json": {
       "model_id": "8a4333c987c94d54a407688342b1c645",
       "version_major": 2,
       "version_minor": 0
      },
      "text/plain": [
       "HBox(children=(Dropdown(description='Model:', index=1, options=('BTS', 'KoBERTSeg'), value='KoBERTSeg'), Butto…"
      ]
     },
     "metadata": {},
     "output_type": "display_data"
    },
    {
     "data": {
      "application/vnd.jupyter.widget-view+json": {
       "model_id": "fc25d2999a2842599f6b5cecd31fac55",
       "version_major": 2,
       "version_minor": 0
      },
      "text/plain": [
       "HBox(children=(Textarea(value=' ', description='Text:', layout=Layout(height='500px', width='500px'), placehol…"
      ]
     },
     "metadata": {},
     "output_type": "display_data"
    },
    {
     "data": {
      "application/vnd.jupyter.widget-view+json": {
       "model_id": "d9114f6559ce46808a26913d2979b9d5",
       "version_major": 2,
       "version_minor": 0
      },
      "text/plain": [
       "VBox(children=(HTML(value='<h1>Result</h1>'), Output(layout=Layout(border='1px solid black', width='500px'))))"
      ]
     },
     "metadata": {},
     "output_type": "display_data"
    }
   ],
   "source": [
    "import yaml\n",
    "import gluonnlp as nlp\n",
    "import torch\n",
    "\n",
    "from kobert import get_pytorch_kobert_model\n",
    "from kobert.utils import get_tokenizer\n",
    "\n",
    "from models import create_model\n",
    "\n",
    "import ipywidgets as widgets\n",
    "from IPython.display import display, clear_output\n",
    "import time\n",
    "\n",
    "output_model = widgets.Output()\n",
    "\n",
    "@output_model.capture()\n",
    "def on_click_callback_model(b: widgets.Button) -> None:\n",
    "    global model\n",
    "    global dataset\n",
    "    \n",
    "    _, vocab = get_pytorch_kobert_model(cachedir=\".cache\")\n",
    "    tokenizer = nlp.data.BERTSPTokenizer(get_tokenizer(), vocab, lower=False)\n",
    "    \n",
    "    cfg = yaml.load(\n",
    "        open(f'./configs/{model_select.value}/{model_select.value}-test.yaml','r'), \n",
    "        Loader = yaml.FullLoader\n",
    "    )\n",
    "    \n",
    "    model = create_model(\n",
    "        modelname  = cfg['MODEL']['modelname'], \n",
    "        hparams    = cfg['MODEL']['PARAMETERS'],\n",
    "        tokenizer  = tokenizer, \n",
    "        checkpoint_path = cfg['MODEL']['CHECKPOINT']['checkpoint_path']\n",
    "    )\n",
    "    \n",
    "    dataset = __import__('dataset').__dict__[f\"{cfg['DATASET']['name']}Dataset\"](\n",
    "        tokenizer       = tokenizer,\n",
    "        vocab           = vocab,\n",
    "        **cfg['DATASET']['PARAMETERS']\n",
    "    )\n",
    "    \n",
    "    model.eval()\n",
    "\n",
    "\n",
    "output = widgets.Output(layout=widgets.Layout(width='500px', border='1px solid black'))\n",
    "\n",
    "# 데코레이터로써 사용하면 기본 출력처가 된다.\n",
    "@output.capture()\n",
    "def on_click_callback(b: widgets.Button) -> None:\n",
    "    clear_output(wait=True)\n",
    "    \n",
    "    doc = [s.strip() for s in text.value.split('.')]\n",
    "    inputs = dataset.single_preprocessor(doc=doc)\n",
    "\n",
    "    end = time.time()\n",
    "    outputs = model(**inputs)\n",
    "    run_time = time.time() - end\n",
    "    \n",
    "    outputs = torch.nn.functional.softmax(outputs,dim=1)\n",
    "    preds = outputs.argmax(dim=-1)\n",
    "    \n",
    "    print(f'Run time: {time.strftime(\"%H:%M:%S\", time.gmtime(run_time))}\\n')\n",
    "    \n",
    "    for i, t in enumerate(doc):\n",
    "        if preds[i-1] == 1 and i != 0:\n",
    "            print()\n",
    "            print(f'\\n--- fake ({outputs[i-1,1]:.2%}) ---\\n')\n",
    "\n",
    "        print(t, end=' ')\n",
    "\n",
    "\n",
    "# ======================\n",
    "# layout\n",
    "# ======================\n",
    "    \n",
    "title = widgets.HTML(\n",
    "    value=\"<h1>Select Model</h1>\"\n",
    ")\n",
    "    \n",
    "model_select = widgets.Dropdown(\n",
    "    options=['BTS','KoBERTSeg'],\n",
    "    value='KoBERTSeg',\n",
    "    description='Model:',\n",
    "    disabled=False,\n",
    ")\n",
    "button_model = widgets.Button(description='Select Model')\n",
    "button_model.on_click(on_click_callback_model)    \n",
    "    \n",
    "display(title)\n",
    "display(widgets.HBox([model_select,button_model]))\n",
    "\n",
    "text = widgets.Textarea(\n",
    "    value=' ',\n",
    "    placeholder='Type something',\n",
    "    description='Text:',\n",
    "    layout = widgets.Layout(width='500px', height='500px')\n",
    ")\n",
    "\n",
    "button = widgets.Button(description='Run')\n",
    "\n",
    "run = widgets.HBox([text,button])\n",
    "\n",
    "display(run)\n",
    "\n",
    "\n",
    "\n",
    "result = widgets.HTML(\n",
    "    value=\"<h1>Result</h1>\"\n",
    ")\n",
    "        \n",
    "button.on_click(on_click_callback)\n",
    "display(widgets.VBox([result,output]))"
   ]
  }
 ],
 "metadata": {
  "kernelspec": {
   "display_name": "Python 3",
   "language": "python",
   "name": "python3"
  },
  "language_info": {
   "codemirror_mode": {
    "name": "ipython",
    "version": 3
   },
   "file_extension": ".py",
   "mimetype": "text/x-python",
   "name": "python",
   "nbconvert_exporter": "python",
   "pygments_lexer": "ipython3",
   "version": "3.6.10"
  }
 },
 "nbformat": 4,
 "nbformat_minor": 4
}
