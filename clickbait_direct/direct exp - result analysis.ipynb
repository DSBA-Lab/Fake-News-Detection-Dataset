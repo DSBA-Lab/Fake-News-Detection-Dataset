{
 "cells": [
  {
   "cell_type": "code",
   "execution_count": 1,
   "metadata": {},
   "outputs": [],
   "source": [
    "import os\n",
    "os.chdir('../../task1_title/')\n",
    "\n",
    "\n",
    "import json\n",
    "from glob import glob\n",
    "\n",
    "import pandas as pd\n",
    "import matplotlib.pyplot as plt\n",
    "import seaborn as sns\n",
    "\n",
    "from utils import extract_wrong_ratio, select_wrong_case_topN\n",
    "\n",
    "def extract_results_by_method(method):\n",
    "    test_results = glob(f'./saved_model-direct_exp/{method}/*/results_test*')\n",
    "    test_results = [r for r in test_results if method in r]\n",
    "    \n",
    "    total_df = pd.DataFrame()\n",
    "\n",
    "    for result_path in test_results:\n",
    "        name = result_path.split('/')[-2]\n",
    "        r = json.load(open(result_path,'r'))\n",
    "\n",
    "        df = pd.DataFrame({\n",
    "            'Metrics' : [m.upper() for m in list(r.keys())], \n",
    "            name      : list(r.values())\n",
    "        })\n",
    "\n",
    "        df = df.round(3)\n",
    "        df = df[df.Metrics!='LOSS']\n",
    "        df = df.set_index(keys=['Metrics']).T\n",
    "\n",
    "        total_df = pd.concat([total_df, df],axis=0)\n",
    "\n",
    "    order = [f + f'-{method}' for f in ['FNDNet_w_freeze_w2e', 'HAN_w_freeze_w2e', 'BTS']]\n",
    "    total_df = total_df.loc[order]\n",
    "\n",
    "    return total_df\n",
    "\n",
    "def extract_wrong_sace_by_method(method):\n",
    "    results_path = glob(f'./saved_model-direct_exp/{method}/*/exp_results_test.csv')\n",
    "\n",
    "    results_path = [r for r in results_path if method in r]\n",
    "    results_path.sort()\n",
    "    results_dict = {}\n",
    "\n",
    "    for i, path in enumerate(results_path):\n",
    "        modelname = os.path.basename(os.path.dirname(path))\n",
    "        results_dict[modelname] = pd.read_csv(path)\n",
    "\n",
    "    for i, (modelname, df) in enumerate(results_dict.items()):\n",
    "\n",
    "        wrong_ratio_df = extract_wrong_ratio(df)\n",
    "        wrong_ratio_df.rename(columns={'wrong / total (%)':f'{modelname} wrong / total (%)'}, inplace=True)\n",
    "\n",
    "        if i == 0:\n",
    "            wrong_ratio_results = wrong_ratio_df\n",
    "        else:\n",
    "            wrong_ratio_results = pd.merge(\n",
    "                wrong_ratio_results,\n",
    "                wrong_ratio_df,\n",
    "                on='category',\n",
    "                how='inner'\n",
    "            )\n",
    "            \n",
    "    return wrong_ratio_results"
   ]
  },
  {
   "cell_type": "markdown",
   "metadata": {},
   "source": [
    "## 낚시(자동) / 낚시(직접) / 비낚시"
   ]
  },
  {
   "cell_type": "markdown",
   "metadata": {},
   "source": [
    "# Metrics"
   ]
  },
  {
   "cell_type": "code",
   "execution_count": 2,
   "metadata": {},
   "outputs": [
    {
     "name": "stdout",
     "output_type": "stream",
     "text": [
      "|                                   |   AUROC |    F1 |   RECALL |   PRECISION |   ACC |\n",
      "|:----------------------------------|--------:|------:|---------:|------------:|------:|\n",
      "| FNDNet_w_freeze_w2e-random_select |   0.948 | 0.844 |    0.809 |       0.882 | 0.883 |\n",
      "| HAN_w_freeze_w2e-random_select    |   0.984 | 0.927 |    0.902 |       0.953 | 0.944 |\n",
      "| BTS-random_select                 |   1     | 0.997 |    0.998 |       0.996 | 0.997 |\n"
     ]
    }
   ],
   "source": [
    "print(extract_results_by_method(method='random_select').to_markdown())"
   ]
  },
  {
   "cell_type": "code",
   "execution_count": 3,
   "metadata": {},
   "outputs": [
    {
     "name": "stdout",
     "output_type": "stream",
     "text": [
      "|                                            |   AUROC |    F1 |   RECALL |   PRECISION |   ACC |\n",
      "|:-------------------------------------------|--------:|------:|---------:|------------:|------:|\n",
      "| FNDNet_w_freeze_w2e-random_category_select |   0.901 | 0.768 |    0.749 |       0.788 | 0.823 |\n",
      "| HAN_w_freeze_w2e-random_category_select    |   0.967 | 0.881 |    0.858 |       0.906 | 0.909 |\n",
      "| BTS-random_category_select                 |   1     | 0.994 |    0.995 |       0.993 | 0.995 |\n"
     ]
    }
   ],
   "source": [
    "print(extract_results_by_method(method='random_category_select').to_markdown())"
   ]
  },
  {
   "cell_type": "code",
   "execution_count": 4,
   "metadata": {
    "scrolled": true
   },
   "outputs": [
    {
     "name": "stdout",
     "output_type": "stream",
     "text": [
      "|                                                 |   AUROC |    F1 |   RECALL |   PRECISION |   ACC |\n",
      "|:------------------------------------------------|--------:|------:|---------:|------------:|------:|\n",
      "| FNDNet_w_freeze_w2e-tfidf_title_category_select |   0.8   | 0.636 |    0.587 |       0.693 | 0.737 |\n",
      "| HAN_w_freeze_w2e-tfidf_title_category_select    |   0.835 | 0.683 |    0.653 |       0.717 | 0.763 |\n",
      "| BTS-tfidf_title_category_select                 |   0.969 | 0.893 |    0.874 |       0.912 | 0.918 |\n"
     ]
    }
   ],
   "source": [
    "print(extract_results_by_method(method='tfidf_title_category_select').to_markdown())"
   ]
  },
  {
   "cell_type": "code",
   "execution_count": 5,
   "metadata": {
    "scrolled": true
   },
   "outputs": [
    {
     "name": "stdout",
     "output_type": "stream",
     "text": [
      "|                                                   |   AUROC |    F1 |   RECALL |   PRECISION |   ACC |\n",
      "|:--------------------------------------------------|--------:|------:|---------:|------------:|------:|\n",
      "| FNDNet_w_freeze_w2e-tfidf_content_category_select |   0.79  | 0.631 |    0.595 |       0.672 | 0.728 |\n",
      "| HAN_w_freeze_w2e-tfidf_content_category_select    |   0.809 | 0.649 |    0.61  |       0.692 | 0.741 |\n",
      "| BTS-tfidf_content_category_select                 |   0.959 | 0.869 |    0.85  |       0.888 | 0.899 |\n"
     ]
    }
   ],
   "source": [
    "print(extract_results_by_method(method='tfidf_content_category_select').to_markdown())"
   ]
  },
  {
   "cell_type": "code",
   "execution_count": 7,
   "metadata": {},
   "outputs": [
    {
     "name": "stdout",
     "output_type": "stream",
     "text": [
      "|                                              |   AUROC |    F1 |   RECALL |   PRECISION |   ACC |\n",
      "|:---------------------------------------------|--------:|------:|---------:|------------:|------:|\n",
      "| FNDNet_w_freeze_w2e-sentence_embedding_title |   0.783 | 0.647 |    0.648 |       0.646 | 0.723 |\n",
      "| HAN_w_freeze_w2e-sentence_embedding_title    |   0.805 | 0.658 |    0.649 |       0.668 | 0.736 |\n",
      "| BTS-sentence_embedding_title                 |   0.964 | 0.88  |    0.862 |       0.898 | 0.908 |\n"
     ]
    }
   ],
   "source": [
    "print(extract_results_by_method(method='sentence_embedding_title').to_markdown())"
   ]
  },
  {
   "cell_type": "code",
   "execution_count": 3,
   "metadata": {},
   "outputs": [
    {
     "name": "stdout",
     "output_type": "stream",
     "text": [
      "|                                                 |   AUROC |    F1 |   RECALL |   PRECISION |   ACC |\n",
      "|:------------------------------------------------|--------:|------:|---------:|------------:|------:|\n",
      "| FNDNet_w_freeze_w2e-sentence_embedding_contents |   0.78  | 0.633 |    0.612 |       0.655 | 0.722 |\n",
      "| HAN_w_freeze_w2e-sentence_embedding_contents    |   0.801 | 0.619 |    0.555 |       0.702 | 0.733 |\n",
      "| BTS-sentence_embedding_contents                 |   0.967 | 0.887 |    0.869 |       0.904 | 0.913 |\n"
     ]
    }
   ],
   "source": [
    "print(extract_results_by_method(method='sentence_embedding_contents').to_markdown())"
   ]
  },
  {
   "cell_type": "code",
   "execution_count": 4,
   "metadata": {},
   "outputs": [
    {
     "name": "stdout",
     "output_type": "stream",
     "text": [
      "|                                               |   AUROC |    F1 |   RECALL |   PRECISION |   ACC |\n",
      "|:----------------------------------------------|--------:|------:|---------:|------------:|------:|\n",
      "| FNDNet_w_freeze_w2e-bow_title_category_select |   0.8   | 0.647 |    0.615 |       0.683 | 0.738 |\n",
      "| HAN_w_freeze_w2e-bow_title_category_select    |   0.835 | 0.681 |    0.647 |       0.718 | 0.762 |\n",
      "| BTS-bow_title_category_select                 |   0.97  | 0.896 |    0.881 |       0.912 | 0.92  |\n"
     ]
    }
   ],
   "source": [
    "print(extract_results_by_method(method='bow_title_category_select').to_markdown())"
   ]
  },
  {
   "cell_type": "code",
   "execution_count": 6,
   "metadata": {},
   "outputs": [
    {
     "name": "stdout",
     "output_type": "stream",
     "text": [
      "|                                                 |   AUROC |    F1 |   RECALL |   PRECISION |   ACC |\n",
      "|:------------------------------------------------|--------:|------:|---------:|------------:|------:|\n",
      "| FNDNet_w_freeze_w2e-bow_content_category_select |   0.786 | 0.641 |    0.627 |       0.656 | 0.725 |\n",
      "| HAN_w_freeze_w2e-bow_content_category_select    |   0.804 | 0.63  |    0.572 |       0.701 | 0.737 |\n",
      "| BTS-bow_content_category_select                 |   0.96  | 0.871 |    0.849 |       0.893 | 0.901 |\n"
     ]
    }
   ],
   "source": [
    "print(extract_results_by_method(method='bow_content_category_select').to_markdown())"
   ]
  },
  {
   "cell_type": "code",
   "execution_count": 3,
   "metadata": {},
   "outputs": [
    {
     "name": "stdout",
     "output_type": "stream",
     "text": [
      "|                                                 |   AUROC |    F1 |   RECALL |   PRECISION |   ACC |\n",
      "|:------------------------------------------------|--------:|------:|---------:|------------:|------:|\n",
      "| FNDNet_w_freeze_w2e-ngram_title_category_select |   0.831 | 0.676 |    0.626 |       0.735 | 0.765 |\n",
      "| HAN_w_freeze_w2e-ngram_title_category_select    |   0.861 | 0.708 |    0.661 |       0.763 | 0.787 |\n",
      "| BTS-ngram_title_category_select                 |   0.977 | 0.912 |    0.886 |       0.938 | 0.933 |\n"
     ]
    }
   ],
   "source": [
    "print(extract_results_by_method(method='ngram_title_category_select').to_markdown())"
   ]
  },
  {
   "cell_type": "code",
   "execution_count": 4,
   "metadata": {},
   "outputs": [
    {
     "name": "stdout",
     "output_type": "stream",
     "text": [
      "|                                                   |   AUROC |    F1 |   RECALL |   PRECISION |   ACC |\n",
      "|:--------------------------------------------------|--------:|------:|---------:|------------:|------:|\n",
      "| FNDNet_w_freeze_w2e-ngram_content_category_select |   0.788 | 0.636 |    0.608 |       0.667 | 0.728 |\n",
      "| HAN_w_freeze_w2e-ngram_content_category_select    |   0.805 | 0.644 |    0.615 |       0.677 | 0.734 |\n",
      "| BTS-ngram_content_category_select                 |   0.961 | 0.874 |    0.845 |       0.905 | 0.905 |\n"
     ]
    }
   ],
   "source": [
    "print(extract_results_by_method(method='ngram_content_category_select').to_markdown())"
   ]
  },
  {
   "cell_type": "markdown",
   "metadata": {},
   "source": [
    "# Wrong Case"
   ]
  },
  {
   "cell_type": "code",
   "execution_count": 5,
   "metadata": {},
   "outputs": [
    {
     "name": "stdout",
     "output_type": "stream",
     "text": [
      "|    | category                     | BTS-random_select wrong / total (%)   | FNDNet_w_freeze_w2e-random_select wrong / total (%)   | HAN_w_freeze_w2e-random_select wrong / total (%)   |\n",
      "|---:|:-----------------------------|:--------------------------------------|:------------------------------------------------------|:---------------------------------------------------|\n",
      "|  0 | NonClickbait_Auto            | 139 / 48450 (0.29%)                   | 3361 / 48450 (6.94%)                                  | 1393 / 48450 (2.88%)                               |\n",
      "|  1 | Clickbait_Auto_random_select | 72 / 31181 (0.23%)                    | 5956 / 31181 (19.10%)                                 | 3062 / 31181 (9.82%)                               |\n"
     ]
    }
   ],
   "source": [
    "print(extract_wrong_sace_by_method(method='random_select').to_markdown())"
   ]
  },
  {
   "cell_type": "code",
   "execution_count": 6,
   "metadata": {},
   "outputs": [
    {
     "name": "stdout",
     "output_type": "stream",
     "text": [
      "|    | category                              | BTS-random_category_select wrong / total (%)   | FNDNet_w_freeze_w2e-random_category_select wrong / total (%)   | HAN_w_freeze_w2e-random_category_select wrong / total (%)   |\n",
      "|---:|:--------------------------------------|:-----------------------------------------------|:---------------------------------------------------------------|:------------------------------------------------------------|\n",
      "|  0 | NonClickbait_Auto                     | 220 / 48450 (0.45%)                            | 6289 / 48450 (12.98%)                                          | 2785 / 48450 (5.75%)                                        |\n",
      "|  1 | Clickbait_Auto_random_category_select | 151 / 31181 (0.48%)                            | 7815 / 31181 (25.06%)                                          | 4437 / 31181 (14.23%)                                       |\n"
     ]
    }
   ],
   "source": [
    "print(extract_wrong_sace_by_method(method='random_category_select').to_markdown())"
   ]
  },
  {
   "cell_type": "code",
   "execution_count": 3,
   "metadata": {
    "scrolled": true
   },
   "outputs": [
    {
     "name": "stdout",
     "output_type": "stream",
     "text": [
      "|    | category                             | BTS-tfidf_title_category_select wrong / total (%)   | FNDNet_w_freeze_w2e-tfidf_title_category_select wrong / total (%)   | HAN_w_freeze_w2e-tfidf_title_category_select wrong / total (%)   |\n",
      "|---:|:-------------------------------------|:----------------------------------------------------|:--------------------------------------------------------------------|:-----------------------------------------------------------------|\n",
      "|  0 | NonClickbait_Auto                    | 2623 / 48450 (5.41%)                                | 8099 / 48450 (16.72%)                                               | 8040 / 48450 (16.59%)                                            |\n",
      "|  1 | Clickbait_Auto_tfidf_category_select | 3921 / 31181 (12.57%)                               | 12876 / 31181 (41.29%)                                              | 10828 / 31181 (34.73%)                                           |\n"
     ]
    }
   ],
   "source": [
    "print(extract_wrong_sace_by_method(method='tfidf_title_category_select').to_markdown())"
   ]
  },
  {
   "cell_type": "code",
   "execution_count": 6,
   "metadata": {
    "scrolled": true
   },
   "outputs": [
    {
     "name": "stdout",
     "output_type": "stream",
     "text": [
      "|    | category                                     | BTS-tfidf_content_category_select wrong / total (%)   | FNDNet_w_freeze_w2e-tfidf_content_category_select wrong / total (%)   | HAN_w_freeze_w2e-tfidf_content_category_select wrong / total (%)   |\n",
      "|---:|:---------------------------------------------|:------------------------------------------------------|:----------------------------------------------------------------------|:-------------------------------------------------------------------|\n",
      "|  0 | NonClickbait_Auto                            | 3346 / 48450 (6.91%)                                  | 9039 / 48450 (18.66%)                                                 | 8476 / 48450 (17.49%)                                              |\n",
      "|  1 | Clickbait_Auto_tfidf_content_category_select | 4673 / 31181 (14.99%)                                 | 12639 / 31181 (40.53%)                                                | 12152 / 31181 (38.97%)                                             |\n"
     ]
    }
   ],
   "source": [
    "print(extract_wrong_sace_by_method(method='tfidf_content_category_select').to_markdown())"
   ]
  },
  {
   "cell_type": "code",
   "execution_count": 9,
   "metadata": {},
   "outputs": [
    {
     "name": "stdout",
     "output_type": "stream",
     "text": [
      "|    | category                                | BTS-sentence_embedding_title wrong / total (%)   | FNDNet_w_freeze_w2e-sentence_embedding_title wrong / total (%)   | HAN_w_freeze_w2e-sentence_embedding_title wrong / total (%)   |\n",
      "|---:|:----------------------------------------|:-------------------------------------------------|:-----------------------------------------------------------------|:--------------------------------------------------------------|\n",
      "|  0 | NonClickbait_Auto                       | 3044 / 48450 (6.28%)                             | 11077 / 48450 (22.86%)                                           | 10047 / 48450 (20.74%)                                        |\n",
      "|  1 | Clickbait_Auto_sentence_embedding_title | 4302 / 31181 (13.80%)                            | 10977 / 31181 (35.20%)                                           | 10947 / 31181 (35.11%)                                        |\n"
     ]
    }
   ],
   "source": [
    "print(extract_wrong_sace_by_method(method='sentence_embedding_title').to_markdown())"
   ]
  },
  {
   "cell_type": "code",
   "execution_count": 5,
   "metadata": {
    "scrolled": true
   },
   "outputs": [
    {
     "name": "stdout",
     "output_type": "stream",
     "text": [
      "|    | category                                 | BTS-bow_title_category_select wrong / total (%)   | FNDNet_w_freeze_w2e-bow_title_category_select wrong / total (%)   | HAN_w_freeze_w2e-bow_title_category_select wrong / total (%)   |\n",
      "|---:|:-----------------------------------------|:--------------------------------------------------|:------------------------------------------------------------------|:---------------------------------------------------------------|\n",
      "|  0 | NonClickbait_Auto                        | 2665 / 48450 (5.50%)                              | 8902 / 48450 (18.37%)                                             | 7938 / 48450 (16.38%)                                          |\n",
      "|  1 | Clickbait_Auto_bow_title_category_select | 3726 / 31181 (11.95%)                             | 11996 / 31181 (38.47%)                                            | 10992 / 31181 (35.25%)                                         |\n"
     ]
    }
   ],
   "source": [
    "print(extract_wrong_sace_by_method(method='bow_title_category_select').to_markdown())"
   ]
  },
  {
   "cell_type": "code",
   "execution_count": 2,
   "metadata": {},
   "outputs": [
    {
     "name": "stdout",
     "output_type": "stream",
     "text": [
      "|    | category                                   | BTS-bow_content_category_select wrong / total (%)   | FNDNet_w_freeze_w2e-bow_content_category_select wrong / total (%)   | HAN_w_freeze_w2e-bow_content_category_select wrong / total (%)   |\n",
      "|---:|:-------------------------------------------|:----------------------------------------------------|:--------------------------------------------------------------------|:-----------------------------------------------------------------|\n",
      "|  0 | NonClickbait_Auto                          | 3157 / 48450 (6.52%)                                | 10247 / 48450 (21.15%)                                              | 7596 / 48450 (15.68%)                                            |\n",
      "|  1 | Clickbait_Auto_bow_content_category_select | 4707 / 31181 (15.10%)                               | 11623 / 31181 (37.28%)                                              | 13332 / 31181 (42.76%)                                           |\n"
     ]
    }
   ],
   "source": [
    "print(extract_wrong_sace_by_method(method='bow_content_category_select').to_markdown())"
   ]
  },
  {
   "cell_type": "code",
   "execution_count": 3,
   "metadata": {
    "scrolled": true
   },
   "outputs": [
    {
     "name": "stdout",
     "output_type": "stream",
     "text": [
      "|    | category                                   | BTS-ngram_title_category_select wrong / total (%)   | FNDNet_w_freeze_w2e-ngram_title_category_select wrong / total (%)   | HAN_w_freeze_w2e-ngram_title_category_select wrong / total (%)   |\n",
      "|---:|:-------------------------------------------|:----------------------------------------------------|:--------------------------------------------------------------------|:-----------------------------------------------------------------|\n",
      "|  0 | NonClickbait_Auto                          | 1819 / 48450 (3.75%)                                | 7019 / 48450 (14.49%)                                               | 6398 / 48450 (13.21%)                                            |\n",
      "|  1 | Clickbait_Auto_ngram_title_category_select | 3541 / 31181 (11.36%)                               | 11677 / 31181 (37.45%)                                              | 10581 / 31181 (33.93%)                                           |\n"
     ]
    }
   ],
   "source": [
    "print(extract_wrong_sace_by_method(method='ngram_title_category_select').to_markdown())"
   ]
  },
  {
   "cell_type": "code",
   "execution_count": 4,
   "metadata": {},
   "outputs": [
    {
     "name": "stdout",
     "output_type": "stream",
     "text": [
      "|    | category                                     | BTS-ngram_content_category_select wrong / total (%)   | FNDNet_w_freeze_w2e-ngram_content_category_select wrong / total (%)   | HAN_w_freeze_w2e-ngram_content_category_select wrong / total (%)   |\n",
      "|---:|:---------------------------------------------|:------------------------------------------------------|:----------------------------------------------------------------------|:-------------------------------------------------------------------|\n",
      "|  0 | NonClickbait_Auto                            | 2755 / 48450 (5.69%)                                  | 9457 / 48450 (19.52%)                                                 | 9175 / 48450 (18.94%)                                              |\n",
      "|  1 | Clickbait_Auto_ngram_content_category_select | 4821 / 31181 (15.46%)                                 | 12227 / 31181 (39.21%)                                                | 11994 / 31181 (38.47%)                                             |\n"
     ]
    }
   ],
   "source": [
    "print(extract_wrong_sace_by_method(method='ngram_content_category_select').to_markdown())"
   ]
  },
  {
   "cell_type": "code",
   "execution_count": null,
   "metadata": {},
   "outputs": [],
   "source": []
  }
 ],
 "metadata": {
  "kernelspec": {
   "display_name": "Python 3",
   "language": "python",
   "name": "python3"
  },
  "language_info": {
   "codemirror_mode": {
    "name": "ipython",
    "version": 3
   },
   "file_extension": ".py",
   "mimetype": "text/x-python",
   "name": "python",
   "nbconvert_exporter": "python",
   "pygments_lexer": "ipython3",
   "version": "3.6.10"
  }
 },
 "nbformat": 4,
 "nbformat_minor": 4
}
